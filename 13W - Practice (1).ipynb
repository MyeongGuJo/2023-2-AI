{
 "cells": [
  {
   "cell_type": "markdown",
   "metadata": {},
   "source": [
    "# <font color = blue>Exercise 1 </font>\n",
    "\n",
    "### (1) Design an MLP model to distinguish two black-and-white number images of $28\\times 28$ size under the condition that the number of parameters in your NN should be less than $1M$. Then, train it with MNIST dataset (number 3 and 8) by using the minibatch SGD under the condition that batch size is a power of 2 less than 1024.\n",
    "### (2) Design an MLP model for multiclass classification for MNIST dataset  under the condition that the number of parameters in your NN should be less than $1M$. Then, train it with MNIST dataset by using the minibatch SGD under the condition that batch size is a power of 2 less than 1024.\n",
    "\n",
    "### (3) Same as (2), except using CIFAR dataset instead of MNIST\n",
    "\n",
    "***\n",
    "\n",
    "### * *Use the following code to count the number of parameters of your NN.*"
   ]
  },
  {
   "cell_type": "code",
   "execution_count": null,
   "metadata": {},
   "outputs": [],
   "source": [
    "# Please change \"STUDENT_model\" with your NN model class's instance name\n",
    "total_params = sum(p.numel() for p in STUDENT_model.parameters())\n",
    "\n",
    "print(\"Number of Parameters: \", total_params)\n"
   ]
  },
  {
   "cell_type": "markdown",
   "metadata": {},
   "source": [
    "### * *For each problem, design your NN with variations and compare the resulting test accuracy. For example, we can use various activations and different weight sizes. Furthermore, you can use various learning rates and set different mechanism to stop the iterations.*\n",
    "\n",
    "### * *Please submit the best one resulting highest test accuracy under the condition that the number of parameters in your NN should be less than 1M.*\n",
    "\n",
    "### * *Please include the reason for the design as well. You can show that you've experimented with different variations and haven't copied someone else's design without understanding reasons.*\n",
    "(Please don't say like that \"Professor and/or TA said this one is better than the other one. Your evidence should be based on your understanding or your experimentations.)\n",
    "\n",
    "### * *The accuracy of the student's model will be evaluated with the following code.*"
   ]
  },
  {
   "cell_type": "code",
   "execution_count": null,
   "metadata": {},
   "outputs": [],
   "source": [
    "''' Test for train_dataset '''\n",
    "\n",
    "image_size = 28*28\n",
    "#image_size = 3*32*32 # for CIFAR dataset\n",
    "MLP_model = \"student's model name\"\n",
    "batch_size = \"student's batch_size\"\n",
    "\n",
    "train_loader = DataLoader(dataset=train_dataset, batch_size=batch_size, shuffle=False)\n",
    "count = 0\n",
    "for image,label in train_loader :\n",
    "    label = label\n",
    "    prediction = torch.argmax(MLP_model(image.view(len(image),image_size)),dim=1)\n",
    "    count += (prediction == label).sum()\n",
    "        \n",
    "print('Test for train_dataset: correctly matched/total: {}/{} accuracy: {:.2f}%\\n'.format(count, len(train_dataset.targets), count/len(train_dataset.targets) * 100. ) )    \n",
    "\n",
    "''' Test for test_dataset '''\n",
    "count = 0\n",
    "wrong_answer = []\n",
    "test_loader = DataLoader(dataset=test_dataset, batch_size=batch_size, shuffle=False)\n",
    "for image,label in test_loader :\n",
    "    label = label\n",
    "    prediction = torch.argmax(MLP_model(image.view(len(image),image_size)),dim=1)\n",
    "    count += (prediction == label).sum()\n",
    "    \n",
    "#     else:\n",
    "#         wrong_answer += [i]   \n",
    "        \n",
    "print('Test for test_dataset: correctly matched/total: {}/{} accuracy: {:.2f}%\\n'.format(count, len(test_dataset.targets), count/len(test_dataset.targets) * 100. ) )    "
   ]
  }
 ],
 "metadata": {
  "kernelspec": {
   "display_name": "Python 3",
   "language": "python",
   "name": "python3"
  },
  "language_info": {
   "codemirror_mode": {
    "name": "ipython",
    "version": 3
   },
   "file_extension": ".py",
   "mimetype": "text/x-python",
   "name": "python",
   "nbconvert_exporter": "python",
   "pygments_lexer": "ipython3",
   "version": "3.8.3"
  }
 },
 "nbformat": 4,
 "nbformat_minor": 4
}
