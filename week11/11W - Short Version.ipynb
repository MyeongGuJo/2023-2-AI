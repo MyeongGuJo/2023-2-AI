{
 "cells": [
  {
   "cell_type": "markdown",
   "metadata": {},
   "source": [
    "# <font color=blue>  Let's Go Back to Our Question</font>\n",
    "### Question: Assume that we have a set of data $\\{(x_i, y_i)\\}_{i=0}^{n-1}$, where $x_i$'s and $y_i$'s are values or vectors of values. \n",
    "\n",
    "### $\\hspace{2cm}$ Can we find a function $f_W(X)$ that <font color=red>best fits</font> this set of data, where $W$ is a parameter that specifies $f$?\n",
    "\n",
    "\n",
    "### Strategy to \"<font color=red>train</font>\" $f_W$:\n",
    "- Given dataset $\\{(x_i, y_i)\\}$, we will find $W$ such that \n",
    "\n",
    "### \\begin{eqnarray}f_W(x_i)\\approx y_i\\text{ for all $i$'s.}\\label{eqn}\\end{eqnarray}\n",
    "\n",
    "-  To this end, \n",
    "- [First Step] We choose an appropriate <font color=red>cost function</font> $COST(W)$ such that it has minima at $W'$ and $W'$ satisfies the above equation. \n",
    "\n",
    "&nbsp;&nbsp;&nbsp;&nbsp;&nbsp;&nbsp; <font color=blue>Example of cost function: $COST(W):=\\sum_{i}|f_W(x_i)-y_i|^2$</font>\n",
    "\n",
    "- [Second Step] We train NN with parameters $W$, where the training procedure is to find $W'$ iteratively by using the (variant of) <font color=red>gradient descent method (GD)</font>.\n",
    "\n",
    "    1. <font color=blue>Choose an initial point of $W$. Say, $w$.</font>\n",
    "    2. <font color=blue>Iteratively update $w$ by applying GD: $w\\leftarrow w-lr\\cdot\\nabla COST$</font>\n",
    "\n",
    "***"
   ]
  },
  {
   "cell_type": "markdown",
   "metadata": {},
   "source": [
    "### Some contents collected from our reference [Ng]\n",
    "# <font color=blue> Logistic Regression </font>\n",
    "- Given an input $\\mathbf{x}\\in\\mathbb{R}^n $, we want to compute a probability of the prediction $\\hat y = \\Pr(y=1|\\mathbf{x})$, so that $0\\leq \\hat y\\leq 1$.\n",
    "\n",
    "- Using parameters $\\mathbf{w}\\in\\mathbb{R}^n$ and $b\\in\\mathbb{R}$, consider a function with $\\mathbf{w}=(w_1,\\ldots,w_n)$ and $b$ that outputs $\\hat y = \\sigma(\\mathbf{w}^\\top \\mathbf{x}+b)$, where $\\sigma(z)=\\frac{1}{1+e^{-z}}$ is the sigmoid function.\n",
    "\n",
    "$\\hspace{2cm}$ - If $z$ is a large positive number, $\\sigma(z)\\approx\\frac{1}{1+0}=1$.\n",
    "\n",
    "$\\hspace{2cm}$ - If $z$ is a large negative number, $\\sigma(z)\\approx\\frac{1}{1+\\text{Big Number}}\\approx 0$.\n",
    "\n",
    "- Note that the derivative of the sigmoid function $\\frac{d\\sigma}{dz}=\\sigma(z)(1-\\sigma(z))$.\n",
    "\n",
    "\n",
    "- WLOG, we can remove the variable $b$ by setting parameters $\\mathbf{w}'=(\\mathbf{w},b)$ and inputs $\\mathbf{x}'=(\\mathbf{x},1)$ since $\\hat y$ can be written as $\\sigma(\\mathbf{w}'^\\top \\mathbf{x}')$.\n",
    "\n",
    "# <font color=blue> Cost Function for Logistic Regression </font>\n",
    "- Given dataset $\\{(\\mathbf{x}^{(i)},y^{(i)})\\}_{i=0}^{m-1}$, we want to find parameters satisfying $\\hat y^{(i)}\\approx y^{(i)}$, where $\\hat y^{(i)}=\\sigma(\\mathbf{w}^\\top \\mathbf{x}^{(i)}+b)$.\n",
    "- Loss/Error function is defined to minimize a gap between predictions $\\hat y^{(i)}$ and observed values of the variable being predicted $y^{(i)}$.\n",
    "\n",
    "$\\hspace{2cm}$ - [MSE] $L(\\hat y, y)= \\frac{1}{2}(\\hat y - y)^2$ \n",
    "\n",
    "$\\hspace{2cm}$ - [Cross-Entropy Loss] $L(\\hat y, y)= -\\big(\\ y\\log\\hat y +(1-y)\\log(1-\\hat y)\\ \\big)$ \n",
    "\n",
    "$\\hspace{3cm}$ - If the sample $y=1$, then $L(\\hat y, y)=-\\log\\hat y$, so that it decreases iff $\\hat y$ increases.\n",
    "\n",
    "$\\hspace{3cm}$ - If the sample $y=0$, then $L(\\hat y, y)=-\\log(1-\\hat y)$, so that it decreases iff $\\hat y$ decreases.\n",
    "\n",
    "- Cost function is defined as $E(\\mathbf{w},b)=\\frac{1}{m}\\sum_{i=0}^{m-1}L(\\hat y^{(i)}, y^{(i)})$. \n",
    "- For the logistic regression, the second loss function is usually used.\n",
    "\n",
    "# <font color=blue> Review Gradient Descent (GD) Method </font>\n",
    "The parameter $w$ is iteratively updated by the following update rule.\n",
    "\n",
    "$$w_i\\leftarrow w_i - \\lambda\\frac{\\partial E}{\\partial w_i}\\ \\text{for each} \\ i=1,\\ldots,n\\ \\ \\ \\ \\ \\text{and }\\ \\ b\\leftarrow b - \\lambda\\frac{\\partial E}{\\partial b},$$\n",
    "where $\\lambda$ is a hyperparameter called *learning rate*.\n",
    "\n",
    "# <font color=blue> Minimize Cost Function by using Gradient Descent Method </font>\n",
    "### One sample case\n",
    "The computation graph for the combination of the loss function and the logistic regression is as follows.\n",
    "$$\\mathbf{x},\\mathbf{w},b\\stackrel{\\mathbf{w}^\\top\\mathbf{x}+b}{\\longrightarrow} \\fbox{$z$}\\stackrel{\\sigma(z)}{\\longrightarrow}\\fbox{$\\hat y$}\\stackrel{L(\\hat y,y)}{\\longrightarrow}L$$\n",
    "Given a data $(\\mathbf{x},y)$, our goal is to find appropriate parameters $\\mathbf{w}$ and $b$ that miniize $L(\\hat y,y)$. That is, we fix $\\mathbf{x}$ and $y$ as constant and consider only $\\mathbf{w}$ and $b$ as variables.\n",
    "\n",
    "By applying the reverse mode AD (that is, the chain rule), we can compute $\\frac{\\partial L}{\\partial w_i}$ for each $i$ and $\\frac{\\partial L}{\\partial b}$.\n",
    "\n",
    "In the process of the reverse mode AD, \n",
    "- [Step1] Compute $\\frac{\\partial L}{\\partial \\hat y}$\n",
    "- [Step2] Compute $\\frac{\\partial \\hat y}{\\partial z}$ and then $\\frac{\\partial L}{\\partial z}=\\frac{\\partial L}{\\partial \\hat y}\\cdot\\frac{\\partial \\hat y}{\\partial z}$.\n",
    "- [Step3] Compute $\\frac{\\partial z}{\\partial w_i}$ and then $\\frac{\\partial L}{\\partial w_i}=\\frac{\\partial L}{\\partial z}\\cdot\\frac{\\partial z}{\\partial w_i}$.\n",
    "\n",
    "We can simplify this process because\n",
    "\n",
    "$\\hspace{2cm}$ $\\frac{\\partial L}{\\partial \\hat y}= - \\frac{y}{\\hat y}+\\frac{1-y}{1-\\hat y}$,\n",
    "\n",
    "$\\hspace{2cm}$ $\\frac{\\partial L}{\\partial z}=\\frac{\\partial L}{\\partial \\hat y}\\cdot\\frac{\\partial \\hat y}{\\partial z}=\\Big(- \\frac{y}{\\hat y}+\\frac{1-y}{1-\\hat y}\\Big)\\cdot\\Big(\\hat y\\cdot (1-\\hat y)\\Big)=\\hat y - y$,\n",
    "\n",
    "$\\hspace{0.5cm}$ and thus $\\frac{\\partial L}{\\partial w_i}=\\frac{\\partial L}{\\partial z}\\cdot\\frac{\\partial z}{\\partial w_i}=(\\hat y-y)\\cdot x_i$ and $\\frac{\\partial L}{\\partial b}=\\frac{\\partial L}{\\partial z}\\cdot\\frac{\\partial z}{\\partial b}=(\\hat y-y)\\cdot 1$.\n",
    "\n",
    "- Using the result, we update parameters by the above update rule.\n",
    "\n",
    "### Multiple samples case\n",
    "$$\\{\\mathbf{x}^{(j)}\\}, \\mathbf{w},b\\stackrel{\\mathbf{w}^\\top\\mathbf{x}^{(j)}+b}{\\longrightarrow} \\fbox{$\\{z^{(j)}\\}$}\\stackrel{\\sigma(z^{(j)})}{\\longrightarrow}\\fbox{$\\{\\hat y^{(j)}\\}$}\\stackrel{\\frac{1}{m}\\sum_{j=0}^{m-1}L(\\hat y^{(j)}, y^{(j)})}{\\longrightarrow} E$$\n",
    "\n",
    "- Given a dataset $\\{(\\mathbf{x}^{(i)},y^{(i)})\\}_{i=0}^{m-1}$, our goal is to find appropriate parameters $\\mathbf{w}$ and $b$ that miniize $E$. \n",
    "\n",
    "- For each pair $(\\mathbf{x}^{(j)},y^{(j)})$, we can compute \n",
    "$$dw_i^{(j)}:=\\frac{\\partial L}{\\partial w_i}=\\frac{\\partial L}{\\partial z}\\cdot\\frac{\\partial z}{\\partial w_i}=(\\hat y^{(j)}-y^{(j)})\\cdot x_i^{(j)}$$ and $$db^{(j)}:=\\frac{\\partial L}{\\partial b}=\\frac{\\partial L}{\\partial z}\\cdot\\frac{\\partial z}{\\partial b}=(\\hat y^{(j)}-y^{(j)})\\cdot 1$$\n",
    "\n",
    "$\\hspace{0.5cm}$ Then, we have $\\frac{\\partial E}{\\partial w_i}=\\frac{1}{m}\\sum_{j=0}^{m-1}dw_i^{(j)}$ and $\\frac{\\partial E}{\\partial b}=\\frac{1}{m}\\sum_{j=0}^{m-1}db^{(j)}$ since $E=\\frac{1}{m}\\sum_{j=0}^{m-1}L(\\hat y^{(j)}, y^{(j)})$.\n",
    "\n",
    "$\\hspace{0.5cm}$ Finally, we update parameters $\\mathbf{w}$ and $b$ by the update rule.\n",
    "\n",
    "# <font color=blue> Minibatch Stochastic Gradient Descent (SGD) Method </font>\n",
    "- Given a dataset $\\{(\\mathbf{x}^{(i)},y^{(i)})\\}_{i=0}^{m-1}$, the parameter $w$ is repeatedly updated by the following update rule.\n",
    "\n",
    "$\\hspace{1cm}$ First, uniformly choose a subset $X\\subset\\{(\\mathbf{x}^{(i)},y^{(i)})\\}_{i=0}^{m-1}$ of size $m'$ (minibatch size).\n",
    "$\\hspace{2cm}$ (SGD is the case that $|X|=1$)\n",
    "\n",
    "$\\hspace{1cm}$ Second, for the set $X$, apply the update rule for GD.\n",
    "***\n",
    "***"
   ]
  },
  {
   "cell_type": "markdown",
   "metadata": {},
   "source": [
    "# <font color=blue>Dataset </font>\n",
    "\n",
    "- https://pytorch.org/vision/stable/datasets.html\n",
    "- Torchvision provides many built-in datasets in the torchvision.datasets module, as well as utility classes for building your own datasets.\n",
    "\n",
    "## <font color=blue>MNIST </font>\n",
    "- Black-and-white $0\\sim9$ numbers images of $28\\times28$ pixels."
   ]
  },
  {
   "cell_type": "code",
   "execution_count": 1,
   "metadata": {},
   "outputs": [
    {
     "name": "stdout",
     "output_type": "stream",
     "text": [
      "train dataset size: 60000\n",
      "test dataset size: 10000\n",
      "tensor(0)\n"
     ]
    },
    {
     "data": {
      "image/png": "[encoded data removed]",
      "text/plain": [
       "<Figure size 432x288 with 1 Axes>"
      ]
     },
     "metadata": {
      "needs_background": "light"
     },
     "output_type": "display_data"
    },
    {
     "name": "stdout",
     "output_type": "stream",
     "text": [
      "tensor(4)\n"
     ]
    },
    {
     "data": {
      "image/png": "[encoded data removed]",
      "text/plain": [
       "<Figure size 432x288 with 1 Axes>"
      ]
     },
     "metadata": {
      "needs_background": "light"
     },
     "output_type": "display_data"
    },
    {
     "name": "stdout",
     "output_type": "stream",
     "text": [
      "tensor(1)\n"
     ]
    },
    {
     "data": {
      "image/png": "[encoded data removed]",
      "text/plain": [
       "<Figure size 432x288 with 1 Axes>"
      ]
     },
     "metadata": {
      "needs_background": "light"
     },
     "output_type": "display_data"
    },
    {
     "name": "stdout",
     "output_type": "stream",
     "text": [
      "tensor(9)\n"
     ]
    },
    {
     "data": {
      "image/png": "[encoded data removed]",
      "text/plain": [
       "<Figure size 432x288 with 1 Axes>"
      ]
     },
     "metadata": {
      "needs_background": "light"
     },
     "output_type": "display_data"
    },
    {
     "name": "stdout",
     "output_type": "stream",
     "text": [
      "tensor(2)\n"
     ]
    },
    {
     "data": {
      "image/png": "[encoded data removed]",
      "text/plain": [
       "<Figure size 432x288 with 1 Axes>"
      ]
     },
     "metadata": {
      "needs_background": "light"
     },
     "output_type": "display_data"
    },
    {
     "name": "stdout",
     "output_type": "stream",
     "text": [
      "tensor(1)\n"
     ]
    },
    {
     "data": {
      "image/png": "[encoded data removed]",
      "text/plain": [
       "<Figure size 432x288 with 1 Axes>"
      ]
     },
     "metadata": {
      "needs_background": "light"
     },
     "output_type": "display_data"
    },
    {
     "name": "stdout",
     "output_type": "stream",
     "text": [
      "tensor(3)\n"
     ]
    },
    {
     "data": {
      "image/png": "[encoded data removed]",
      "text/plain": [
       "<Figure size 432x288 with 1 Axes>"
      ]
     },
     "metadata": {
      "needs_background": "light"
     },
     "output_type": "display_data"
    },
    {
     "name": "stdout",
     "output_type": "stream",
     "text": [
      "tensor(1)\n"
     ]
    },
    {
     "data": {
      "image/png": "[encoded data removed]",
      "text/plain": [
       "<Figure size 432x288 with 1 Axes>"
      ]
     },
     "metadata": {
      "needs_background": "light"
     },
     "output_type": "display_data"
    },
    {
     "name": "stdout",
     "output_type": "stream",
     "text": [
      "tensor(4)\n"
     ]
    },
    {
     "data": {
      "image/png": "[encoded data removed]",
      "text/plain": [
       "<Figure size 432x288 with 1 Axes>"
      ]
     },
     "metadata": {
      "needs_background": "light"
     },
     "output_type": "display_data"
    }
   ],
   "source": [
    "from torchvision import datasets\n",
    "import torchvision.transforms as transforms\n",
    "\n",
    "### dataset for training parameters\n",
    "train_dataset = datasets.MNIST(root='./mnist_data/', train=True, transform=transforms.ToTensor(), download=True)\n",
    "### dataset for testing the accuracy of the trained parameters\n",
    "test_dataset = datasets.MNIST(root='./mnist_data/', train=False, transform=transforms.ToTensor())\n",
    "\n",
    "print('train dataset size:',len(train_dataset.data))\n",
    "\n",
    "print('test dataset size:',len(test_dataset.data))\n",
    "\n",
    "import matplotlib.pyplot as plt\n",
    "\n",
    "for i in range(1,10):\n",
    "    image = train_dataset.data[i]\n",
    "    print(train_dataset.targets[i])\n",
    "    plt.imshow(image, cmap='gray')  \n",
    "    plt.show()\n",
    "\n",
    "### normalizing dataset\n",
    "# train_dataset.data = (train_dataset.data/255-0.1307)/0.3081\n",
    "# test_dataset.data = (test_dataset.data/255-0.1307)/0.3081\n",
    "# print(train_dataset.data[0])"
   ]
  },
  {
   "cell_type": "code",
   "execution_count": 2,
   "metadata": {
    "scrolled": true
   },
   "outputs": [
    {
     "data": {
      "text/plain": [
       "tensor([[  0,   0,   0,   0,   0,   0,   0,   0,   0,   0,   0,   0,   0,   0,\n",
       "           0,   0,   0,   0,   0,   0,   0,   0,   0,   0,   0,   0,   0,   0],\n",
       "        [  0,   0,   0,   0,   0,   0,   0,   0,   0,   0,   0,   0,   0,   0,\n",
       "           0,   0,   0,   0,   0,   0,   0,   0,   0,   0,   0,   0,   0,   0],\n",
       "        [  0,   0,   0,   0,   0,   0,   0,   0,   0,   0,   0,   0,   0,   0,\n",
       "           0,   0,   0,   0,   0,   0,   0,   0,   0,   0,   0,   0,   0,   0],\n",
       "        [  0,   0,   0,   0,   0,   0,   0,   0,   0,   0,   0,   0,   0,   0,\n",
       "           0,   0,   0,   0,   0,   0,   0,   0,   0,   0,   0,   0,   0,   0],\n",
       "        [  0,   0,   0,   0,   0,   0,   0,   0,   0,   0,   0,   0,   0,   0,\n",
       "           0,  51, 159, 253, 159,  50,   0,   0,   0,   0,   0,   0,   0,   0],\n",
       "        [  0,   0,   0,   0,   0,   0,   0,   0,   0,   0,   0,   0,   0,   0,\n",
       "          48, 238, 252, 252, 252, 237,   0,   0,   0,   0,   0,   0,   0,   0],\n",
       "        [  0,   0,   0,   0,   0,   0,   0,   0,   0,   0,   0,   0,   0,  54,\n",
       "         227, 253, 252, 239, 233, 252,  57,   6,   0,   0,   0,   0,   0,   0],\n",
       "        [  0,   0,   0,   0,   0,   0,   0,   0,   0,   0,   0,  10,  60, 224,\n",
       "         252, 253, 252, 202,  84, 252, 253, 122,   0,   0,   0,   0,   0,   0],\n",
       "        [  0,   0,   0,   0,   0,   0,   0,   0,   0,   0,   0, 163, 252, 252,\n",
       "         252, 253, 252, 252,  96, 189, 253, 167,   0,   0,   0,   0,   0,   0],\n",
       "        [  0,   0,   0,   0,   0,   0,   0,   0,   0,   0,  51, 238, 253, 253,\n",
       "         190, 114, 253, 228,  47,  79, 255, 168,   0,   0,   0,   0,   0,   0],\n",
       "        [  0,   0,   0,   0,   0,   0,   0,   0,   0,  48, 238, 252, 252, 179,\n",
       "          12,  75, 121,  21,   0,   0, 253, 243,  50,   0,   0,   0,   0,   0],\n",
       "        [  0,   0,   0,   0,   0,   0,   0,   0,  38, 165, 253, 233, 208,  84,\n",
       "           0,   0,   0,   0,   0,   0, 253, 252, 165,   0,   0,   0,   0,   0],\n",
       "        [  0,   0,   0,   0,   0,   0,   0,   7, 178, 252, 240,  71,  19,  28,\n",
       "           0,   0,   0,   0,   0,   0, 253, 252, 195,   0,   0,   0,   0,   0],\n",
       "        [  0,   0,   0,   0,   0,   0,   0,  57, 252, 252,  63,   0,   0,   0,\n",
       "           0,   0,   0,   0,   0,   0, 253, 252, 195,   0,   0,   0,   0,   0],\n",
       "        [  0,   0,   0,   0,   0,   0,   0, 198, 253, 190,   0,   0,   0,   0,\n",
       "           0,   0,   0,   0,   0,   0, 255, 253, 196,   0,   0,   0,   0,   0],\n",
       "        [  0,   0,   0,   0,   0,   0,  76, 246, 252, 112,   0,   0,   0,   0,\n",
       "           0,   0,   0,   0,   0,   0, 253, 252, 148,   0,   0,   0,   0,   0],\n",
       "        [  0,   0,   0,   0,   0,   0,  85, 252, 230,  25,   0,   0,   0,   0,\n",
       "           0,   0,   0,   0,   7, 135, 253, 186,  12,   0,   0,   0,   0,   0],\n",
       "        [  0,   0,   0,   0,   0,   0,  85, 252, 223,   0,   0,   0,   0,   0,\n",
       "           0,   0,   0,   7, 131, 252, 225,  71,   0,   0,   0,   0,   0,   0],\n",
       "        [  0,   0,   0,   0,   0,   0,  85, 252, 145,   0,   0,   0,   0,   0,\n",
       "           0,   0,  48, 165, 252, 173,   0,   0,   0,   0,   0,   0,   0,   0],\n",
       "        [  0,   0,   0,   0,   0,   0,  86, 253, 225,   0,   0,   0,   0,   0,\n",
       "           0, 114, 238, 253, 162,   0,   0,   0,   0,   0,   0,   0,   0,   0],\n",
       "        [  0,   0,   0,   0,   0,   0,  85, 252, 249, 146,  48,  29,  85, 178,\n",
       "         225, 253, 223, 167,  56,   0,   0,   0,   0,   0,   0,   0,   0,   0],\n",
       "        [  0,   0,   0,   0,   0,   0,  85, 252, 252, 252, 229, 215, 252, 252,\n",
       "         252, 196, 130,   0,   0,   0,   0,   0,   0,   0,   0,   0,   0,   0],\n",
       "        [  0,   0,   0,   0,   0,   0,  28, 199, 252, 252, 253, 252, 252, 233,\n",
       "         145,   0,   0,   0,   0,   0,   0,   0,   0,   0,   0,   0,   0,   0],\n",
       "        [  0,   0,   0,   0,   0,   0,   0,  25, 128, 252, 253, 252, 141,  37,\n",
       "           0,   0,   0,   0,   0,   0,   0,   0,   0,   0,   0,   0,   0,   0],\n",
       "        [  0,   0,   0,   0,   0,   0,   0,   0,   0,   0,   0,   0,   0,   0,\n",
       "           0,   0,   0,   0,   0,   0,   0,   0,   0,   0,   0,   0,   0,   0],\n",
       "        [  0,   0,   0,   0,   0,   0,   0,   0,   0,   0,   0,   0,   0,   0,\n",
       "           0,   0,   0,   0,   0,   0,   0,   0,   0,   0,   0,   0,   0,   0],\n",
       "        [  0,   0,   0,   0,   0,   0,   0,   0,   0,   0,   0,   0,   0,   0,\n",
       "           0,   0,   0,   0,   0,   0,   0,   0,   0,   0,   0,   0,   0,   0],\n",
       "        [  0,   0,   0,   0,   0,   0,   0,   0,   0,   0,   0,   0,   0,   0,\n",
       "           0,   0,   0,   0,   0,   0,   0,   0,   0,   0,   0,   0,   0,   0]],\n",
       "       dtype=torch.uint8)"
      ]
     },
     "execution_count": 2,
     "metadata": {},
     "output_type": "execute_result"
    }
   ],
   "source": [
    "train_dataset.data[1]"
   ]
  },
  {
   "cell_type": "markdown",
   "metadata": {},
   "source": [
    "### MNIST is a dataset of 10 images\n",
    "### To apply the logistic regression method, we make a subset of MNIST consisting of only two number images."
   ]
  },
  {
   "cell_type": "code",
   "execution_count": 3,
   "metadata": {
    "scrolled": true
   },
   "outputs": [
    {
     "name": "stdout",
     "output_type": "stream",
     "text": [
      "tensor(0)\n"
     ]
    },
    {
     "data": {
      "image/png": "[encoded data removed]",
      "text/plain": [
       "<Figure size 432x288 with 1 Axes>"
      ]
     },
     "metadata": {
      "needs_background": "light"
     },
     "output_type": "display_data"
    },
    {
     "name": "stdout",
     "output_type": "stream",
     "text": [
      "tensor(0)\n"
     ]
    },
    {
     "data": {
      "image/png": "[encoded data removed]",
      "text/plain": [
       "<Figure size 432x288 with 1 Axes>"
      ]
     },
     "metadata": {
      "needs_background": "light"
     },
     "output_type": "display_data"
    },
    {
     "name": "stdout",
     "output_type": "stream",
     "text": [
      "tensor(0)\n"
     ]
    },
    {
     "data": {
      "image/png": "[encoded data removed]",
      "text/plain": [
       "<Figure size 432x288 with 1 Axes>"
      ]
     },
     "metadata": {
      "needs_background": "light"
     },
     "output_type": "display_data"
    },
    {
     "name": "stdout",
     "output_type": "stream",
     "text": [
      "tensor(0)\n"
     ]
    },
    {
     "data": {
      "image/png": "[encoded data removed]",
      "text/plain": [
       "<Figure size 432x288 with 1 Axes>"
      ]
     },
     "metadata": {
      "needs_background": "light"
     },
     "output_type": "display_data"
    },
    {
     "name": "stdout",
     "output_type": "stream",
     "text": [
      "tensor(0)\n"
     ]
    },
    {
     "data": {
      "image/png": "[encoded data removed]",
      "text/plain": [
       "<Figure size 432x288 with 1 Axes>"
      ]
     },
     "metadata": {
      "needs_background": "light"
     },
     "output_type": "display_data"
    },
    {
     "name": "stdout",
     "output_type": "stream",
     "text": [
      "tensor(0)\n"
     ]
    },
    {
     "data": {
      "image/png": "[encoded data removed]",
      "text/plain": [
       "<Figure size 432x288 with 1 Axes>"
      ]
     },
     "metadata": {
      "needs_background": "light"
     },
     "output_type": "display_data"
    },
    {
     "name": "stdout",
     "output_type": "stream",
     "text": [
      "tensor(0)\n"
     ]
    },
    {
     "data": {
      "image/png": "[encoded data removed]",
      "text/plain": [
       "<Figure size 432x288 with 1 Axes>"
      ]
     },
     "metadata": {
      "needs_background": "light"
     },
     "output_type": "display_data"
    },
    {
     "name": "stdout",
     "output_type": "stream",
     "text": [
      "tensor(0)\n"
     ]
    },
    {
     "data": {
      "image/png": "[encoded data removed]",
      "text/plain": [
       "<Figure size 432x288 with 1 Axes>"
      ]
     },
     "metadata": {
      "needs_background": "light"
     },
     "output_type": "display_data"
    },
    {
     "name": "stdout",
     "output_type": "stream",
     "text": [
      "tensor(0)\n"
     ]
    },
    {
     "data": {
      "image/png": "[encoded data removed]",
      "text/plain": [
       "<Figure size 432x288 with 1 Axes>"
      ]
     },
     "metadata": {
      "needs_background": "light"
     },
     "output_type": "display_data"
    },
    {
     "name": "stdout",
     "output_type": "stream",
     "text": [
      "tensor(1)\n"
     ]
    },
    {
     "data": {
      "image/png": "[encoded data removed]",
      "text/plain": [
       "<Figure size 432x288 with 1 Axes>"
      ]
     },
     "metadata": {
      "needs_background": "light"
     },
     "output_type": "display_data"
    },
    {
     "name": "stdout",
     "output_type": "stream",
     "text": [
      "tensor(1)\n"
     ]
    },
    {
     "data": {
      "image/png": "[encoded data removed]",
      "text/plain": [
       "<Figure size 432x288 with 1 Axes>"
      ]
     },
     "metadata": {
      "needs_background": "light"
     },
     "output_type": "display_data"
    },
    {
     "name": "stdout",
     "output_type": "stream",
     "text": [
      "tensor(1)\n"
     ]
    },
    {
     "data": {
      "image/png": "[encoded data removed]",
      "text/plain": [
       "<Figure size 432x288 with 1 Axes>"
      ]
     },
     "metadata": {
      "needs_background": "light"
     },
     "output_type": "display_data"
    },
    {
     "name": "stdout",
     "output_type": "stream",
     "text": [
      "tensor(1)\n"
     ]
    },
    {
     "data": {
      "image/png": "[encoded data removed]",
      "text/plain": [
       "<Figure size 432x288 with 1 Axes>"
      ]
     },
     "metadata": {
      "needs_background": "light"
     },
     "output_type": "display_data"
    },
    {
     "name": "stdout",
     "output_type": "stream",
     "text": [
      "tensor(1)\n"
     ]
    },
    {
     "data": {
      "image/png": "[encoded data removed]",
      "text/plain": [
       "<Figure size 432x288 with 1 Axes>"
      ]
     },
     "metadata": {
      "needs_background": "light"
     },
     "output_type": "display_data"
    },
    {
     "name": "stdout",
     "output_type": "stream",
     "text": [
      "tensor(1)\n"
     ]
    },
    {
     "data": {
      "image/png": "[encoded data removed]",
      "text/plain": [
       "<Figure size 432x288 with 1 Axes>"
      ]
     },
     "metadata": {
      "needs_background": "light"
     },
     "output_type": "display_data"
    },
    {
     "name": "stdout",
     "output_type": "stream",
     "text": [
      "tensor(1)\n"
     ]
    },
    {
     "data": {
      "image/png": "[encoded data removed]",
      "text/plain": [
       "<Figure size 432x288 with 1 Axes>"
      ]
     },
     "metadata": {
      "needs_background": "light"
     },
     "output_type": "display_data"
    },
    {
     "name": "stdout",
     "output_type": "stream",
     "text": [
      "tensor(1)\n"
     ]
    },
    {
     "data": {
      "image/png": "[encoded data removed]",
      "text/plain": [
       "<Figure size 432x288 with 1 Axes>"
      ]
     },
     "metadata": {
      "needs_background": "light"
     },
     "output_type": "display_data"
    },
    {
     "name": "stdout",
     "output_type": "stream",
     "text": [
      "tensor(1)\n"
     ]
    },
    {
     "data": {
      "image/png": "[encoded data removed]",
      "text/plain": [
       "<Figure size 432x288 with 1 Axes>"
      ]
     },
     "metadata": {
      "needs_background": "light"
     },
     "output_type": "display_data"
    }
   ],
   "source": [
    "import torch\n",
    "import matplotlib.pyplot as plt\n",
    "\n",
    "'''\n",
    "Choose two numbers and prepare datasets with two numbers.\n",
    "'''\n",
    "nb1 = 5\n",
    "nb2 = 6\n",
    "\n",
    "train_dataset.data = torch.cat([train_dataset.data[(train_dataset.targets == nb1)],train_dataset.data[(train_dataset.targets == nb2)]],dim=0)\n",
    "train_dataset.targets = torch.cat([train_dataset.targets[(train_dataset.targets == nb1)],train_dataset.targets[(train_dataset.targets == nb2)]],dim=0)\n",
    "\n",
    "train_dataset.targets[(train_dataset.targets == nb1)] = 0\n",
    "train_dataset.targets[(train_dataset.targets == nb2)] = 1\n",
    "\n",
    "\n",
    "for i in range(1,10):\n",
    "    image = train_dataset.data[i]\n",
    "    print(train_dataset.targets[i])\n",
    "    plt.imshow(image, cmap='gray')  \n",
    "    plt.show()\n",
    "    \n",
    "for i in range(1,10):    \n",
    "    image = train_dataset.data[-i]\n",
    "    print(train_dataset.targets[-i])    \n",
    "    plt.imshow(image, cmap='gray')\n",
    "    plt.show()"
   ]
  },
  {
   "cell_type": "code",
   "execution_count": 4,
   "metadata": {},
   "outputs": [],
   "source": [
    "'''\n",
    "Do the same thing for the test dataset\n",
    "'''\n",
    "\n",
    "test_dataset.data = torch.cat([test_dataset.data[(test_dataset.targets == nb1)],test_dataset.data[(test_dataset.targets == nb2)]],dim=0)\n",
    "test_dataset.targets = torch.cat([test_dataset.targets[(test_dataset.targets == nb1)],test_dataset.targets[(test_dataset.targets == nb2)]],dim=0)\n",
    "\n",
    "test_dataset.targets[(test_dataset.targets == nb1)] = 0\n",
    "test_dataset.targets[(test_dataset.targets == nb2)] = 1"
   ]
  },
  {
   "cell_type": "code",
   "execution_count": 5,
   "metadata": {
    "scrolled": true
   },
   "outputs": [
    {
     "name": "stdout",
     "output_type": "stream",
     "text": [
      "0/False means 5 and 1/True means 6\n",
      "tensor(0)\n"
     ]
    },
    {
     "data": {
      "image/png": "[encoded data removed]",
      "text/plain": [
       "<Figure size 432x288 with 1 Axes>"
      ]
     },
     "metadata": {
      "needs_background": "light"
     },
     "output_type": "display_data"
    },
    {
     "name": "stdout",
     "output_type": "stream",
     "text": [
      "tensor(0)\n"
     ]
    },
    {
     "data": {
      "image/png": "[encoded data removed]",
      "text/plain": [
       "<Figure size 432x288 with 1 Axes>"
      ]
     },
     "metadata": {
      "needs_background": "light"
     },
     "output_type": "display_data"
    },
    {
     "name": "stdout",
     "output_type": "stream",
     "text": [
      "tensor(0)\n"
     ]
    },
    {
     "data": {
      "image/png": "[encoded data removed]",
      "text/plain": [
       "<Figure size 432x288 with 1 Axes>"
      ]
     },
     "metadata": {
      "needs_background": "light"
     },
     "output_type": "display_data"
    },
    {
     "name": "stdout",
     "output_type": "stream",
     "text": [
      "tensor(1)\n"
     ]
    },
    {
     "data": {
      "image/png": "[encoded data removed]",
      "text/plain": [
       "<Figure size 432x288 with 1 Axes>"
      ]
     },
     "metadata": {
      "needs_background": "light"
     },
     "output_type": "display_data"
    },
    {
     "name": "stdout",
     "output_type": "stream",
     "text": [
      "tensor(1)\n"
     ]
    },
    {
     "data": {
      "image/png": "[encoded data removed]",
      "text/plain": [
       "<Figure size 432x288 with 1 Axes>"
      ]
     },
     "metadata": {
      "needs_background": "light"
     },
     "output_type": "display_data"
    },
    {
     "name": "stdout",
     "output_type": "stream",
     "text": [
      "tensor(1)\n"
     ]
    },
    {
     "data": {
      "image/png": "[encoded data removed]",
      "text/plain": [
       "<Figure size 432x288 with 1 Axes>"
      ]
     },
     "metadata": {
      "needs_background": "light"
     },
     "output_type": "display_data"
    }
   ],
   "source": [
    "import matplotlib.pyplot as plt\n",
    "\n",
    "print('0/False means {} and 1/True means {}'.format(nb1,nb2))\n",
    "\n",
    "for i in range(1,4):\n",
    "    image = train_dataset.data[i]\n",
    "    print(train_dataset.targets[i])\n",
    "    plt.imshow(image, cmap='gray')\n",
    "    plt.show()\n",
    "    \n",
    "for i in range(1,4):\n",
    "    image = train_dataset.data[-i]\n",
    "    print(train_dataset.targets[-i])\n",
    "    plt.imshow(image, cmap='gray')\n",
    "    plt.show()    \n",
    "    \n"
   ]
  },
  {
   "cell_type": "code",
   "execution_count": 6,
   "metadata": {
    "scrolled": true
   },
   "outputs": [
    {
     "name": "stdout",
     "output_type": "stream",
     "text": [
      "torch.Size([28, 28])\n"
     ]
    }
   ],
   "source": [
    "print(train_dataset.data[0].shape )"
   ]
  },
  {
   "cell_type": "markdown",
   "metadata": {},
   "source": [
    "- Prepare parameters for logistic regression"
   ]
  }
 ],
 "metadata": {
  "kernelspec": {
   "display_name": "Python 3",
   "language": "python",
   "name": "python3"
  },
  "language_info": {
   "codemirror_mode": {
    "name": "ipython",
    "version": 3
   },
   "file_extension": ".py",
   "mimetype": "text/x-python",
   "name": "python",
   "nbconvert_exporter": "python",
   "pygments_lexer": "ipython3",
   "version": "3.8.3"
  }
 },
 "nbformat": 4,
 "nbformat_minor": 4
}
