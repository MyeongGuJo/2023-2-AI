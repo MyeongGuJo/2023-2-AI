{
 "cells": [
  {
   "cell_type": "markdown",
   "metadata": {},
   "source": [
    "## My Classifier test score\n",
    "- Binary Classifier for MNIST: 92.89%\n",
    "- Multi Class Classifier for MNIST: 93.56%\n",
    "- Multi Class Classifier for CIFAR10: 51.47%"
   ]
  },
  {
   "cell_type": "code",
   "execution_count": 1,
   "metadata": {},
   "outputs": [
    {
     "name": "stderr",
     "output_type": "stream",
     "text": [
      "c:\\Users\\jwhau\\anaconda3\\envs\\pytorch\\Lib\\site-packages\\tqdm\\auto.py:21: TqdmWarning: IProgress not found. Please update jupyter and ipywidgets. See https://ipywidgets.readthedocs.io/en/stable/user_install.html\n",
      "  from .autonotebook import tqdm as notebook_tqdm\n"
     ]
    }
   ],
   "source": [
    "import torch\n",
    "import torch.nn as nn\n",
    "import torch.nn.functional as F\n",
    "import torch.optim as optim\n",
    "import torchvision.transforms as transforms\n",
    "from torchvision.datasets import MNIST\n",
    "from torch.utils.data import DataLoader"
   ]
  },
  {
   "cell_type": "code",
   "execution_count": 2,
   "metadata": {},
   "outputs": [],
   "source": [
    "# Exercise 1-1\n",
    "# https://pytorch.org/docs/stable/generated/torch.nn.Module.html7\n",
    "\n",
    "class MLP(nn.Module) :\n",
    "    def __init__(self, in_dim, out_dim, inter_dim=28*28) :\n",
    "        super().__init__()\n",
    "        self.linear1 = nn.Linear(in_dim, inter_dim, bias=True)\n",
    "        self.act1 = nn.Sigmoid()\n",
    "        self.linear2 = nn.Linear(inter_dim, out_dim, bias=True)\n",
    "        \n",
    "    def forward(self, x) :\n",
    "#         assert x.size()[2]*x.size()[3] == self.in_dim, \"x.size()[2]*x.size()[3] should be {}\".format(self.in_dim)\n",
    "        z = self.linear1(x.view(-1, 28*28))\n",
    "        z = self.act1(z)\n",
    "        z = self.linear2(z)\n",
    "        return z"
   ]
  },
  {
   "cell_type": "code",
   "execution_count": 3,
   "metadata": {},
   "outputs": [],
   "source": [
    "STUDENT_model = MLP(28*28, 1)"
   ]
  },
  {
   "cell_type": "code",
   "execution_count": 4,
   "metadata": {},
   "outputs": [
    {
     "name": "stdout",
     "output_type": "stream",
     "text": [
      "Number of Parameters:  616225\n"
     ]
    }
   ],
   "source": [
    "# Please change \"STUDENT_model\" with your NN model class's instance name\n",
    "total_params = sum(p.numel() for p in STUDENT_model.parameters())\n",
    "\n",
    "print(\"Number of Parameters: \", total_params)\n"
   ]
  },
  {
   "cell_type": "code",
   "execution_count": 5,
   "metadata": {},
   "outputs": [],
   "source": [
    "# Normalize data with mean=0.5, std=1.0\n",
    "mnist_transform = transforms.Compose([\n",
    "    transforms.ToTensor(), \n",
    "    transforms.Normalize((0.5,), (1.0,))\n",
    "])\n",
    "\n",
    "# download path 정의\n",
    "download_root = './MNIST_DATASET'\n",
    "\n",
    "train_dataset = MNIST(download_root, transform=mnist_transform, train=True, download=True)\n",
    "valid_dataset = MNIST(download_root, transform=mnist_transform, train=False, download=True)\n",
    "test_dataset = MNIST(download_root, transform=mnist_transform, train=False, download=True)"
   ]
  },
  {
   "cell_type": "code",
   "execution_count": 6,
   "metadata": {},
   "outputs": [],
   "source": [
    "'''\n",
    "Choose two numbers and prepare datasets with two numbers.\n",
    "'''\n",
    "nb1 = 3\n",
    "nb2 = 8\n",
    "\n",
    "train_dataset.data = torch.cat([train_dataset.data[(train_dataset.targets == nb1)],train_dataset.data[(train_dataset.targets == nb2)]],dim=0)\n",
    "train_dataset.targets = torch.cat([train_dataset.targets[(train_dataset.targets == nb1)],train_dataset.targets[(train_dataset.targets == nb2)]],dim=0)\n",
    "\n",
    "train_dataset.targets[(train_dataset.targets == nb1)] = 0\n",
    "train_dataset.targets[(train_dataset.targets == nb2)] = 1\n",
    "\n",
    "'''\n",
    "Do the same thing for the test, valid dataset\n",
    "'''\n",
    "valid_dataset.data = torch.cat([valid_dataset.data[(valid_dataset.targets == nb1)],valid_dataset.data[(valid_dataset.targets == nb2)]],dim=0)\n",
    "valid_dataset.targets = torch.cat([valid_dataset.targets[(valid_dataset.targets == nb1)],valid_dataset.targets[(valid_dataset.targets == nb2)]],dim=0)\n",
    "\n",
    "valid_dataset.targets[(valid_dataset.targets == nb1)] = 0\n",
    "valid_dataset.targets[(valid_dataset.targets == nb2)] = 1\n",
    "\n",
    "test_dataset.data = torch.cat([test_dataset.data[(test_dataset.targets == nb1)],test_dataset.data[(test_dataset.targets == nb2)]],dim=0)\n",
    "test_dataset.targets = torch.cat([test_dataset.targets[(test_dataset.targets == nb1)],test_dataset.targets[(test_dataset.targets == nb2)]],dim=0)\n",
    "\n",
    "test_dataset.targets[(test_dataset.targets == nb1)] = 0\n",
    "test_dataset.targets[(test_dataset.targets == nb2)] = 1"
   ]
  },
  {
   "cell_type": "code",
   "execution_count": 7,
   "metadata": {},
   "outputs": [],
   "source": [
    "# option 값 정의\n",
    "batch_size = 8\n",
    "dim = 28*28\n",
    "learning_rate = 1e-3\n",
    "\n",
    "train_loader = DataLoader(dataset=train_dataset, \n",
    "                         batch_size=batch_size,\n",
    "                         shuffle=True)\n",
    "\n",
    "valid_loader = DataLoader(dataset=test_dataset, \n",
    "                         batch_size=batch_size,\n",
    "                         shuffle=True)\n",
    "\n",
    "test_loader = DataLoader(dataset=test_dataset, \n",
    "                         batch_size=batch_size,\n",
    "                         shuffle=True)"
   ]
  },
  {
   "cell_type": "code",
   "execution_count": 8,
   "metadata": {},
   "outputs": [],
   "source": [
    "my_loss = nn.BCELoss()"
   ]
  },
  {
   "cell_type": "code",
   "execution_count": 9,
   "metadata": {},
   "outputs": [
    {
     "name": "stdout",
     "output_type": "stream",
     "text": [
      "Epoch: 0 | Train Loss: 0.6707095100739611\n",
      "Epoch: 1 | Train Loss: 0.6184385106544469\n",
      "Epoch: 2 | Train Loss: 0.5572276433136498\n",
      "Epoch: 3 | Train Loss: 0.4883371150302632\n",
      "Epoch: 4 | Train Loss: 0.4217851060095712\n",
      "Epoch: 5 | Train Loss: 0.36596553864203724\n",
      "Epoch: 6 | Train Loss: 0.3225957646926191\n",
      "Epoch: 7 | Train Loss: 0.2890395888777696\n",
      "Epoch: 8 | Train Loss: 0.26301296242327493\n",
      "Epoch: 9 | Train Loss: 0.24274342813005595\n",
      "Epoch: 10 | Train Loss: 0.22644370502589622\n",
      "Epoch: 11 | Train Loss: 0.21296768409208716\n"
     ]
    }
   ],
   "source": [
    "optimizer = optim.SGD(STUDENT_model.parameters(), learning_rate)\n",
    "\n",
    "for epoch in range(12):\n",
    "    STUDENT_model.train()\n",
    "    epoch_loss = 0\n",
    "    \n",
    "    for i, (data, target) in enumerate(train_loader):\n",
    "        \n",
    "        optimizer.zero_grad()\n",
    "        \n",
    "        output = STUDENT_model(data)\n",
    "        \n",
    "        output = output.reshape(-1)\n",
    "        act = nn.Sigmoid()\n",
    "        loss = my_loss(act(output), target.float())\n",
    "        \n",
    "        loss.backward()\n",
    "        \n",
    "        optimizer.step()\n",
    "        \n",
    "        epoch_loss += loss.item()\n",
    "\n",
    "    print(f'Epoch: {epoch} | Train Loss: {epoch_loss / len(train_loader)}')"
   ]
  },
  {
   "cell_type": "code",
   "execution_count": 10,
   "metadata": {},
   "outputs": [
    {
     "name": "stdout",
     "output_type": "stream",
     "text": [
      "total: 11982, correctly matched: 10914, accuracy: 91.09%\n",
      "\n"
     ]
    }
   ],
   "source": [
    "### Test for train_dataset\n",
    "count = 0\n",
    "for i in range(train_dataset.targets.size()[0]):\n",
    "    image = train_dataset.data[i]\n",
    "    label = train_dataset.targets[i]\n",
    "\n",
    "    prediction = (STUDENT_model(image.float().view(-1, 28*28)) >= torch.FloatTensor([0.5]))\n",
    "    if prediction == label:\n",
    "        count += 1\n",
    "\n",
    "print('total: {}, correctly matched: {}, accuracy: {:.2f}%\\n'.format(train_dataset.targets.size()[0], count, count/train_dataset.targets.size()[0] * 100. ) )"
   ]
  },
  {
   "cell_type": "code",
   "execution_count": 11,
   "metadata": {},
   "outputs": [
    {
     "name": "stdout",
     "output_type": "stream",
     "text": [
      "total: 1984, correctly matched: 1839 accuracy: 92.69%\n",
      "\n"
     ]
    }
   ],
   "source": [
    "''' Test for test_dataset '''\n",
    "count = 0\n",
    "wrong_answer = []\n",
    "STUDENT_model.eval()\n",
    "for i in range(test_dataset.targets.size()[0]):\n",
    "    image = test_dataset.data[i]\n",
    "    label = test_dataset.targets[i]\n",
    "\n",
    "    prediction = STUDENT_model.forward(image.float().view(-1, 28*28)) >= torch.FloatTensor([0.5])\n",
    "    if prediction == label:\n",
    "        count += 1\n",
    "    else:\n",
    "        wrong_answer += [i]\n",
    "\n",
    "print('total: {}, correctly matched: {} accuracy: {:.2f}%\\n'.format(test_dataset.targets.size()[0], count, count/test_dataset.targets.size()[0] * 100. ) )"
   ]
  }
 ],
 "metadata": {
  "kernelspec": {
   "display_name": "pytorch",
   "language": "python",
   "name": "python3"
  },
  "language_info": {
   "codemirror_mode": {
    "name": "ipython",
    "version": 3
   },
   "file_extension": ".py",
   "mimetype": "text/x-python",
   "name": "python",
   "nbconvert_exporter": "python",
   "pygments_lexer": "ipython3",
   "version": "3.11.5"
  }
 },
 "nbformat": 4,
 "nbformat_minor": 2
}
