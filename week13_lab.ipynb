{
 "cells": [
  {
   "cell_type": "markdown",
   "metadata": {},
   "source": [
    "## My Classifier test score\n",
    "- Binary Classifier for MNIST: 92.89%\n",
    "- Multi Class Classifier for MNIST: 93.56%\n",
    "- Multi Class Classifier for CIFAR10: 51.47%"
   ]
  },
  {
   "cell_type": "code",
   "execution_count": 100,
   "metadata": {},
   "outputs": [],
   "source": [
    "import torch\n",
    "import torch.nn as nn\n",
    "import torch.nn.functional as F\n",
    "import torch.optim as optim\n",
    "import torchvision.transforms as transforms\n",
    "from torchvision.datasets import MNIST\n",
    "from torch.utils.data import DataLoader"
   ]
  },
  {
   "cell_type": "code",
   "execution_count": 101,
   "metadata": {},
   "outputs": [],
   "source": [
    "# Exercise 1-1\n",
    "# https://pytorch.org/docs/stable/generated/torch.nn.Module.html7\n",
    "\n",
    "class MLP(nn.Module) :\n",
    "    def __init__(self, in_dim, out_dim, inter_dim=28*28) :\n",
    "        super().__init__()\n",
    "        self.linear1 = nn.Linear(in_dim, inter_dim, bias=True)\n",
    "        self.act1 = nn.Sigmoid()\n",
    "        self.linear2 = nn.Linear(inter_dim, out_dim, bias=True)\n",
    "        \n",
    "    def forward(self, x) :\n",
    "#         assert x.size()[2]*x.size()[3] == self.in_dim, \"x.size()[2]*x.size()[3] should be {}\".format(self.in_dim)\n",
    "        z = self.linear1(x.view(-1, 28*28))\n",
    "        z = self.act1(z)\n",
    "        z = self.linear2(z)\n",
    "        return z"
   ]
  },
  {
   "cell_type": "code",
   "execution_count": 102,
   "metadata": {},
   "outputs": [],
   "source": [
    "STUDENT_model = MLP(28*28, 1)"
   ]
  },
  {
   "cell_type": "code",
   "execution_count": 103,
   "metadata": {},
   "outputs": [
    {
     "name": "stdout",
     "output_type": "stream",
     "text": [
      "Number of Parameters:  616225\n"
     ]
    }
   ],
   "source": [
    "# Please change \"STUDENT_model\" with your NN model class's instance name\n",
    "total_params = sum(p.numel() for p in STUDENT_model.parameters())\n",
    "\n",
    "print(\"Number of Parameters: \", total_params)\n"
   ]
  },
  {
   "cell_type": "code",
   "execution_count": 104,
   "metadata": {},
   "outputs": [],
   "source": [
    "# Normalize data with mean=0.5, std=1.0\n",
    "mnist_transform = transforms.Compose([\n",
    "    transforms.ToTensor(), \n",
    "    transforms.Normalize((0.5,), (1.0,))\n",
    "])\n",
    "\n",
    "# download path 정의\n",
    "download_root = './MNIST_DATASET'\n",
    "\n",
    "train_dataset = MNIST(download_root, transform=mnist_transform, train=True, download=True)\n",
    "valid_dataset = MNIST(download_root, transform=mnist_transform, train=False, download=True)\n",
    "test_dataset = MNIST(download_root, transform=mnist_transform, train=False, download=True)"
   ]
  },
  {
   "cell_type": "code",
   "execution_count": 105,
   "metadata": {},
   "outputs": [],
   "source": [
    "'''\n",
    "Choose two numbers and prepare datasets with two numbers.\n",
    "'''\n",
    "nb1 = 3\n",
    "nb2 = 8\n",
    "\n",
    "train_dataset.data = torch.cat([train_dataset.data[(train_dataset.targets == nb1)],train_dataset.data[(train_dataset.targets == nb2)]],dim=0)\n",
    "train_dataset.targets = torch.cat([train_dataset.targets[(train_dataset.targets == nb1)],train_dataset.targets[(train_dataset.targets == nb2)]],dim=0)\n",
    "\n",
    "train_dataset.targets[(train_dataset.targets == nb1)] = 0\n",
    "train_dataset.targets[(train_dataset.targets == nb2)] = 1\n",
    "\n",
    "'''\n",
    "Do the same thing for the test, valid dataset\n",
    "'''\n",
    "valid_dataset.data = torch.cat([valid_dataset.data[(valid_dataset.targets == nb1)],valid_dataset.data[(valid_dataset.targets == nb2)]],dim=0)\n",
    "valid_dataset.targets = torch.cat([valid_dataset.targets[(valid_dataset.targets == nb1)],valid_dataset.targets[(valid_dataset.targets == nb2)]],dim=0)\n",
    "\n",
    "valid_dataset.targets[(valid_dataset.targets == nb1)] = 0\n",
    "valid_dataset.targets[(valid_dataset.targets == nb2)] = 1\n",
    "\n",
    "test_dataset.data = torch.cat([test_dataset.data[(test_dataset.targets == nb1)],test_dataset.data[(test_dataset.targets == nb2)]],dim=0)\n",
    "test_dataset.targets = torch.cat([test_dataset.targets[(test_dataset.targets == nb1)],test_dataset.targets[(test_dataset.targets == nb2)]],dim=0)\n",
    "\n",
    "test_dataset.targets[(test_dataset.targets == nb1)] = 0\n",
    "test_dataset.targets[(test_dataset.targets == nb2)] = 1"
   ]
  },
  {
   "cell_type": "code",
   "execution_count": 106,
   "metadata": {},
   "outputs": [],
   "source": [
    "# option 값 정의\n",
    "batch_size = 8\n",
    "dim = 28*28\n",
    "learning_rate = 1e-3\n",
    "\n",
    "train_loader = DataLoader(dataset=train_dataset, \n",
    "                         batch_size=batch_size,\n",
    "                         shuffle=True)\n",
    "\n",
    "valid_loader = DataLoader(dataset=test_dataset, \n",
    "                         batch_size=batch_size,\n",
    "                         shuffle=True)\n",
    "\n",
    "test_loader = DataLoader(dataset=test_dataset, \n",
    "                         batch_size=batch_size,\n",
    "                         shuffle=True)"
   ]
  },
  {
   "cell_type": "code",
   "execution_count": 107,
   "metadata": {},
   "outputs": [],
   "source": [
    "my_loss = nn.BCELoss()"
   ]
  },
  {
   "cell_type": "code",
   "execution_count": 108,
   "metadata": {},
   "outputs": [
    {
     "name": "stdout",
     "output_type": "stream",
     "text": [
      "Epoch: 0 | Train Loss: 0.6738684247030275\n",
      "Epoch: 1 | Train Loss: 0.6212979668927925\n",
      "Epoch: 2 | Train Loss: 0.5603490012669277\n",
      "Epoch: 3 | Train Loss: 0.4907511255650399\n",
      "Epoch: 4 | Train Loss: 0.4230224959084762\n",
      "Epoch: 5 | Train Loss: 0.36610348859878983\n",
      "Epoch: 6 | Train Loss: 0.3217530560459648\n",
      "Epoch: 7 | Train Loss: 0.28818034931261327\n",
      "Epoch: 8 | Train Loss: 0.26200699022857943\n",
      "Epoch: 9 | Train Loss: 0.24151882196270497\n",
      "Epoch: 10 | Train Loss: 0.22519464202931472\n",
      "Epoch: 11 | Train Loss: 0.21188988823826624\n"
     ]
    }
   ],
   "source": [
    "optimizer = optim.SGD(STUDENT_model.parameters(), learning_rate)\n",
    "\n",
    "for epoch in range(12):\n",
    "    STUDENT_model.train()\n",
    "    epoch_loss = 0\n",
    "    \n",
    "    for i, (data, target) in enumerate(train_loader):\n",
    "        \n",
    "        optimizer.zero_grad()\n",
    "        \n",
    "        output = STUDENT_model(data)\n",
    "        \n",
    "        output = output.reshape(-1)\n",
    "        act = nn.Sigmoid()\n",
    "        loss = my_loss(act(output), target.float())\n",
    "        \n",
    "        loss.backward()\n",
    "        \n",
    "        optimizer.step()\n",
    "        \n",
    "        epoch_loss += loss.item()\n",
    "\n",
    "    print(f'Epoch: {epoch} | Train Loss: {epoch_loss / len(train_loader)}')"
   ]
  },
  {
   "cell_type": "code",
   "execution_count": 109,
   "metadata": {},
   "outputs": [
    {
     "name": "stdout",
     "output_type": "stream",
     "text": [
      "total: 11982, correctly matched: 10952, accuracy: 91.40%\n",
      "\n"
     ]
    }
   ],
   "source": [
    "### Test for train_dataset\n",
    "count = 0\n",
    "for i in range(train_dataset.targets.size()[0]):\n",
    "    image = train_dataset.data[i]\n",
    "    label = train_dataset.targets[i]\n",
    "\n",
    "    prediction = (STUDENT_model(image.float().view(-1, 28*28)) >= torch.FloatTensor([0.5]))\n",
    "    if prediction == label:\n",
    "        count += 1\n",
    "\n",
    "print('total: {}, correctly matched: {}, accuracy: {:.2f}%\\n'.format(train_dataset.targets.size()[0], count, count/train_dataset.targets.size()[0] * 100. ) )"
   ]
  },
  {
   "cell_type": "code",
   "execution_count": 110,
   "metadata": {},
   "outputs": [
    {
     "name": "stdout",
     "output_type": "stream",
     "text": [
      "total: 1984, correctly matched: 1843 accuracy: 92.89%\n",
      "\n"
     ]
    }
   ],
   "source": [
    "''' Test for test_dataset '''\n",
    "count = 0\n",
    "wrong_answer = []\n",
    "STUDENT_model.eval()\n",
    "for i in range(test_dataset.targets.size()[0]):\n",
    "    image = test_dataset.data[i]\n",
    "    label = test_dataset.targets[i]\n",
    "\n",
    "    prediction = STUDENT_model.forward(image.float().view(-1, 28*28)) >= torch.FloatTensor([0.5])\n",
    "    if prediction == label:\n",
    "        count += 1\n",
    "    else:\n",
    "        wrong_answer += [i]\n",
    "\n",
    "print('total: {}, correctly matched: {} accuracy: {:.2f}%\\n'.format(test_dataset.targets.size()[0], count, count/test_dataset.targets.size()[0] * 100. ) )"
   ]
  },
  {
   "cell_type": "code",
   "execution_count": 111,
   "metadata": {},
   "outputs": [],
   "source": [
    "# Exercise 1-2\n",
    "# https://pytorch.org/docs/stable/generated/torch.nn.Module.html\n",
    "class MultiClassMLP(nn.Module) :\n",
    "    def __init__(self, in_dim, out_dim, inter_dim=24*24) :\n",
    "        super().__init__()\n",
    "        self.in_dim = in_dim\n",
    "        self.linear1 = nn.Linear(in_dim, inter_dim, bias=True)\n",
    "        self.act1 = nn.Sigmoid()\n",
    "        self.linear2 = nn.Linear(inter_dim, inter_dim, bias=True)\n",
    "        self.act2 = nn.Sigmoid()\n",
    "        self.linear3 = nn.Linear(inter_dim, out_dim, bias=True)\n",
    "        \n",
    "    def forward(self, x) :\n",
    "        # assert x.size()[2]*x.size()[3] == self.in_dim, \"x.size()[2]*x.size()[3] should be {}\".format(self.in_dim)\n",
    "        x = x.reshape(-1, self.in_dim)\n",
    "        z = self.linear1(x)\n",
    "        z = self.act1(z)\n",
    "        z = self.linear2(z)\n",
    "        z = self.act2(z)\n",
    "        z = self.linear3(z)\n",
    "        return z"
   ]
  },
  {
   "cell_type": "code",
   "execution_count": 112,
   "metadata": {},
   "outputs": [],
   "source": [
    "# MultiClass Classfication\n",
    "STUDENT_model = MultiClassMLP(28*28, 10)"
   ]
  },
  {
   "cell_type": "code",
   "execution_count": 113,
   "metadata": {},
   "outputs": [
    {
     "name": "stdout",
     "output_type": "stream",
     "text": [
      "Number of Parameters:  790282\n"
     ]
    }
   ],
   "source": [
    "# Please change \"STUDENT_model\" with your NN model class's instance name\n",
    "total_params = sum(p.numel() for p in STUDENT_model.parameters())\n",
    "\n",
    "print(\"Number of Parameters: \", total_params)"
   ]
  },
  {
   "cell_type": "code",
   "execution_count": 114,
   "metadata": {},
   "outputs": [],
   "source": [
    "train_dataset = MNIST(download_root, transform=mnist_transform, train=True, download=True)\n",
    "valid_dataset = MNIST(download_root, transform=mnist_transform, train=False, download=True)\n",
    "test_dataset = MNIST(download_root, transform=mnist_transform, train=False, download=True)"
   ]
  },
  {
   "cell_type": "code",
   "execution_count": 115,
   "metadata": {},
   "outputs": [],
   "source": [
    "# option 값 정의\n",
    "batch_size = 32\n",
    "dim = 28*28\n",
    "learning_rate = 1e-1\n",
    "\n",
    "train_loader = DataLoader(dataset=train_dataset, \n",
    "                         batch_size=batch_size,\n",
    "                         shuffle=True)\n",
    "\n",
    "valid_loader = DataLoader(dataset=test_dataset, \n",
    "                         batch_size=batch_size,\n",
    "                         shuffle=True)\n",
    "\n",
    "test_loader = DataLoader(dataset=test_dataset, \n",
    "                         batch_size=batch_size,\n",
    "                         shuffle=True)"
   ]
  },
  {
   "cell_type": "code",
   "execution_count": 116,
   "metadata": {},
   "outputs": [
    {
     "name": "stdout",
     "output_type": "stream",
     "text": [
      "tensor(19.1141)\n",
      "tensor(13.6685)\n"
     ]
    }
   ],
   "source": [
    "my_loss = nn.CrossEntropyLoss()\n",
    "\n",
    "print(my_loss(torch.Tensor([1, 2, 3]), torch.Tensor([4, 5, 6])))\n",
    "print(my_loss(torch.Tensor([1, 2, 3]), torch.Tensor([4, 2, 3])))"
   ]
  },
  {
   "cell_type": "code",
   "execution_count": 117,
   "metadata": {},
   "outputs": [
    {
     "name": "stdout",
     "output_type": "stream",
     "text": [
      "Epoch: 0 | Train Loss: 1.3938548517942428\n",
      "Epoch: 1 | Train Loss: 0.4375531750837962\n",
      "Epoch: 2 | Train Loss: 0.36056686911781627\n",
      "Epoch: 3 | Train Loss: 0.3234294385254383\n",
      "Epoch: 4 | Train Loss: 0.29063264476656914\n",
      "Epoch: 5 | Train Loss: 0.2649251809378465\n",
      "Epoch: 6 | Train Loss: 0.2405255453189214\n"
     ]
    }
   ],
   "source": [
    "optimizer = optim.SGD(STUDENT_model.parameters(), learning_rate)\n",
    "\n",
    "for epoch in range(7):\n",
    "    STUDENT_model.train()\n",
    "    epoch_loss = 0\n",
    "    \n",
    "    for i, (data, target) in enumerate(train_loader):\n",
    "        \n",
    "        optimizer.zero_grad()\n",
    "        \n",
    "        output = STUDENT_model(data)\n",
    "        \n",
    "        loss = my_loss(output, target)\n",
    "        \n",
    "        loss.backward()\n",
    "        \n",
    "        optimizer.step()\n",
    "        \n",
    "        epoch_loss += loss.item()\n",
    "\n",
    "    print(f'Epoch: {epoch} | Train Loss: {epoch_loss / len(train_loader)}')"
   ]
  },
  {
   "cell_type": "code",
   "execution_count": 118,
   "metadata": {},
   "outputs": [
    {
     "name": "stdout",
     "output_type": "stream",
     "text": [
      "Test for train_dataset: correctly matched/total: 56176/60000 accuracy: 93.63%\n",
      "\n",
      "Test for test_dataset: correctly matched/total: 9356/10000 accuracy: 93.56%\n",
      "\n"
     ]
    }
   ],
   "source": [
    "''' Test for train_dataset '''\n",
    "\n",
    "image_size = 28*28\n",
    "#image_size = 3*32*32 # for CIFAR dataset\n",
    "STUDENT_model.eval()\n",
    "batch_size = 32\n",
    "\n",
    "train_loader = DataLoader(dataset=train_dataset, batch_size=batch_size, shuffle=False)\n",
    "count = 0\n",
    "for image,label in train_loader :\n",
    "    label = label\n",
    "    prediction = torch.argmax(STUDENT_model(image.view(len(image),image_size)),dim=1)\n",
    "    count += (prediction == label).sum()\n",
    "        \n",
    "print('Test for train_dataset: correctly matched/total: {}/{} accuracy: {:.2f}%\\n'.format(count, len(train_dataset.targets), count/len(train_dataset.targets) * 100. ) )    \n",
    "\n",
    "''' Test for test_dataset '''\n",
    "count = 0\n",
    "wrong_answer = []\n",
    "test_loader = DataLoader(dataset=test_dataset, batch_size=batch_size, shuffle=False)\n",
    "for image,label in test_loader :\n",
    "    label = label\n",
    "    prediction = torch.argmax(STUDENT_model(image.view(len(image),image_size)),dim=1)\n",
    "    count += (prediction == label).sum()\n",
    "    \n",
    "#     else:\n",
    "#         wrong_answer += [i]   \n",
    "        \n",
    "print('Test for test_dataset: correctly matched/total: {}/{} accuracy: {:.2f}%\\n'.format(count, len(test_dataset.targets), count/len(test_dataset.targets) * 100. ) )    "
   ]
  },
  {
   "cell_type": "code",
   "execution_count": 119,
   "metadata": {},
   "outputs": [],
   "source": [
    "# Exercise 1-3\n",
    "class MLP_CIFAR10(nn.Module) :\n",
    "    def __init__(self, in_dim, out_dim, device, inter_dim=16*16):\n",
    "        super().__init__()\n",
    "        self.in_dim = in_dim\n",
    "        self.linear1 = nn.Linear(in_dim, inter_dim, bias=True, device=device)\n",
    "        self.act1 = nn.ReLU()\n",
    "        self.linear2 = nn.Linear(inter_dim, inter_dim, bias=True, device=device)\n",
    "        self.act2 = nn.ReLU()\n",
    "        self.linear3 = nn.Linear(inter_dim, inter_dim, bias=True, device=device)\n",
    "        self.act3 = nn.ReLU()\n",
    "        self.linear4 = nn.Linear(inter_dim, out_dim, bias=True, device=device)\n",
    "        \n",
    "    def forward(self, x) :\n",
    "        # assert x.size()[2]*x.size()[3] == self.in_dim, \"x.size()[2]*x.size()[3] should be {}\".format(self.in_dim)\n",
    "        x = x.reshape(-1, self.in_dim)\n",
    "        z = self.linear1(x)\n",
    "        z = self.act1(z)\n",
    "        z = self.linear2(z)\n",
    "        z = self.act2(z)\n",
    "        z = self.linear3(z)\n",
    "        z = self.act3(z)\n",
    "        z = self.linear4(z)\n",
    "        return z"
   ]
  },
  {
   "cell_type": "code",
   "execution_count": 120,
   "metadata": {},
   "outputs": [
    {
     "name": "stdout",
     "output_type": "stream",
     "text": [
      "Files already downloaded and verified\n",
      "Files already downloaded and verified\n",
      "Files already downloaded and verified\n"
     ]
    }
   ],
   "source": [
    "from torchvision.datasets import CIFAR10\n",
    "\n",
    "# download path 정의\n",
    "download_root = './CIFAR10_DATASET'\n",
    "\n",
    "train_dataset = CIFAR10(download_root, transform=mnist_transform, train=True, download=True)\n",
    "valid_dataset = CIFAR10(download_root, transform=mnist_transform, train=False, download=True)\n",
    "test_dataset = CIFAR10(download_root, transform=mnist_transform, train=False, download=True)"
   ]
  },
  {
   "cell_type": "code",
   "execution_count": 121,
   "metadata": {},
   "outputs": [],
   "source": [
    "# option 값 정의\n",
    "batch_size = 32\n",
    "dim = 3*32*32\n",
    "learning_rate = 1e-1\n",
    "\n",
    "train_loader = DataLoader(dataset=train_dataset, \n",
    "                         batch_size=batch_size,\n",
    "                         shuffle=True)\n",
    "\n",
    "valid_loader = DataLoader(dataset=test_dataset, \n",
    "                         batch_size=batch_size,\n",
    "                         shuffle=True)\n",
    "\n",
    "test_loader = DataLoader(dataset=test_dataset, \n",
    "                         batch_size=batch_size,\n",
    "                         shuffle=True)"
   ]
  },
  {
   "cell_type": "code",
   "execution_count": 122,
   "metadata": {},
   "outputs": [],
   "source": [
    "device = torch.device(\"cuda:0\" if torch.cuda.is_available() else \"cpu\")\n",
    "\n",
    "STUDENT_model = MLP_CIFAR10(dim, 10, device)"
   ]
  },
  {
   "cell_type": "code",
   "execution_count": 123,
   "metadata": {},
   "outputs": [
    {
     "name": "stdout",
     "output_type": "stream",
     "text": [
      "Number of Parameters:  920842\n"
     ]
    }
   ],
   "source": [
    "# Please change \"STUDENT_model\" with your NN model class's instance name\n",
    "total_params = sum(p.numel() for p in STUDENT_model.parameters())\n",
    "\n",
    "print(\"Number of Parameters: \", total_params)"
   ]
  },
  {
   "cell_type": "code",
   "execution_count": 124,
   "metadata": {},
   "outputs": [],
   "source": [
    "my_loss = nn.CrossEntropyLoss()"
   ]
  },
  {
   "cell_type": "code",
   "execution_count": 125,
   "metadata": {},
   "outputs": [
    {
     "name": "stdout",
     "output_type": "stream",
     "text": [
      "torch.Size([32, 3, 32, 32]) torch.Size([32])\n"
     ]
    }
   ],
   "source": [
    "for i, (data, target) in enumerate(train_loader):\n",
    "    print(data.shape, target.shape)\n",
    "    if i==0:\n",
    "        break"
   ]
  },
  {
   "cell_type": "code",
   "execution_count": 126,
   "metadata": {},
   "outputs": [
    {
     "name": "stdout",
     "output_type": "stream",
     "text": [
      "Epoch: 0 | Train Loss: 1.7463650283947711\n",
      "Epoch: 1 | Train Loss: 1.4615106008331973\n",
      "Epoch: 2 | Train Loss: 1.3389863130074622\n",
      "Epoch: 3 | Train Loss: 1.2485914128145497\n",
      "Epoch: 4 | Train Loss: 1.1711103556175988\n"
     ]
    }
   ],
   "source": [
    "optimizer = optim.SGD(STUDENT_model.parameters(), learning_rate)\n",
    "\n",
    "for epoch in range(5):\n",
    "    STUDENT_model.train()\n",
    "    epoch_loss = 0\n",
    "    \n",
    "    for i, (data, target) in enumerate(train_loader):\n",
    "        \n",
    "        optimizer.zero_grad()\n",
    "        \n",
    "        output = STUDENT_model(data.to(device))\n",
    "        \n",
    "        loss = my_loss(output, target.to(device))\n",
    "        \n",
    "        loss.backward()\n",
    "        \n",
    "        optimizer.step()\n",
    "        \n",
    "        epoch_loss += loss.item()\n",
    "\n",
    "    print(f'Epoch: {epoch} | Train Loss: {epoch_loss / len(train_loader)}')"
   ]
  },
  {
   "cell_type": "code",
   "execution_count": 127,
   "metadata": {},
   "outputs": [
    {
     "name": "stdout",
     "output_type": "stream",
     "text": [
      "Test for train_dataset: correctly matched/total: 30099/50000 accuracy: 60.20%\n",
      "\n",
      "Test for test_dataset: correctly matched/total: 5147/10000 accuracy: 51.47%\n",
      "\n"
     ]
    }
   ],
   "source": [
    "''' Test for train_dataset '''\n",
    "\n",
    "#image_size = 28*28\n",
    "image_size = 3*32*32 # for CIFAR dataset\n",
    "STUDENT_model.eval()\n",
    "batch_size = 32\n",
    "\n",
    "train_loader = DataLoader(dataset=train_dataset, batch_size=batch_size, shuffle=False)\n",
    "count = 0\n",
    "for image,label in train_loader :\n",
    "    label = label\n",
    "    prediction = torch.argmax(STUDENT_model(image.view(len(image),image_size).to(device)),dim=1)\n",
    "    count += (prediction == label.to(device)).sum()\n",
    "        \n",
    "print('Test for train_dataset: correctly matched/total: {}/{} accuracy: {:.2f}%\\n'.format(count, len(train_dataset.targets), count/len(train_dataset.targets) * 100. ) )    \n",
    "\n",
    "''' Test for test_dataset '''\n",
    "count = 0\n",
    "wrong_answer = []\n",
    "test_loader = DataLoader(dataset=test_dataset, batch_size=batch_size, shuffle=False)\n",
    "for image,label in test_loader :\n",
    "    label = label\n",
    "    prediction = torch.argmax(STUDENT_model(image.view(len(image),image_size).to(device)),dim=1)\n",
    "    count += (prediction == label.to(device)).sum()\n",
    "    \n",
    "#     else:\n",
    "#         wrong_answer += [i]   \n",
    "        \n",
    "print('Test for test_dataset: correctly matched/total: {}/{} accuracy: {:.2f}%\\n'.format(count, len(test_dataset.targets), count/len(test_dataset.targets) * 100. ) )    "
   ]
  }
 ],
 "metadata": {
  "kernelspec": {
   "display_name": "pytorch",
   "language": "python",
   "name": "python3"
  },
  "language_info": {
   "codemirror_mode": {
    "name": "ipython",
    "version": 3
   },
   "file_extension": ".py",
   "mimetype": "text/x-python",
   "name": "python",
   "nbconvert_exporter": "python",
   "pygments_lexer": "ipython3",
   "version": "3.11.5"
  }
 },
 "nbformat": 4,
 "nbformat_minor": 2
}
