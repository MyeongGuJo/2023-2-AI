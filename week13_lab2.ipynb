{
 "cells": [
  {
   "cell_type": "markdown",
   "metadata": {},
   "source": [
    "## My Classifier test score\n",
    "- Binary Classifier for MNIST: 92.89%\n",
    "- Multi Class Classifier for MNIST: 93.56%\n",
    "- Multi Class Classifier for CIFAR10: 51.47%"
   ]
  },
  {
   "cell_type": "code",
   "execution_count": 1,
   "metadata": {},
   "outputs": [
    {
     "name": "stderr",
     "output_type": "stream",
     "text": [
      "c:\\Users\\jwhau\\anaconda3\\envs\\pytorch\\Lib\\site-packages\\tqdm\\auto.py:21: TqdmWarning: IProgress not found. Please update jupyter and ipywidgets. See https://ipywidgets.readthedocs.io/en/stable/user_install.html\n",
      "  from .autonotebook import tqdm as notebook_tqdm\n"
     ]
    }
   ],
   "source": [
    "import torch\n",
    "import torch.nn as nn\n",
    "import torch.nn.functional as F\n",
    "import torch.optim as optim\n",
    "import torchvision.transforms as transforms\n",
    "from torchvision.datasets import MNIST\n",
    "from torch.utils.data import DataLoader"
   ]
  },
  {
   "cell_type": "code",
   "execution_count": 2,
   "metadata": {},
   "outputs": [],
   "source": [
    "# Normalize data with mean=0.5, std=1.0\n",
    "mnist_transform = transforms.Compose([\n",
    "    transforms.ToTensor(), \n",
    "    transforms.Normalize((0.5,), (1.0,))\n",
    "])\n",
    "\n",
    "# download path 정의\n",
    "download_root = './MNIST_DATASET'\n",
    "\n",
    "train_dataset = MNIST(download_root, transform=mnist_transform, train=True, download=True)\n",
    "valid_dataset = MNIST(download_root, transform=mnist_transform, train=False, download=True)\n",
    "test_dataset = MNIST(download_root, transform=mnist_transform, train=False, download=True)"
   ]
  },
  {
   "cell_type": "code",
   "execution_count": 3,
   "metadata": {},
   "outputs": [],
   "source": [
    "# Exercise 1-2\n",
    "# https://pytorch.org/docs/stable/generated/torch.nn.Module.html\n",
    "class MultiClassMLP(nn.Module) :\n",
    "    def __init__(self, in_dim, out_dim, inter_dim=24*24) :\n",
    "        super().__init__()\n",
    "        self.in_dim = in_dim\n",
    "        self.linear1 = nn.Linear(in_dim, inter_dim, bias=True)\n",
    "        self.act1 = nn.Sigmoid()\n",
    "        self.linear2 = nn.Linear(inter_dim, inter_dim, bias=True)\n",
    "        self.act2 = nn.Sigmoid()\n",
    "        self.linear3 = nn.Linear(inter_dim, out_dim, bias=True)\n",
    "        \n",
    "    def forward(self, x) :\n",
    "        # assert x.size()[2]*x.size()[3] == self.in_dim, \"x.size()[2]*x.size()[3] should be {}\".format(self.in_dim)\n",
    "        x = x.reshape(-1, self.in_dim)\n",
    "        z = self.linear1(x)\n",
    "        z = self.act1(z)\n",
    "        z = self.linear2(z)\n",
    "        z = self.act2(z)\n",
    "        z = self.linear3(z)\n",
    "        return z"
   ]
  },
  {
   "cell_type": "code",
   "execution_count": 4,
   "metadata": {},
   "outputs": [],
   "source": [
    "# MultiClass Classfication\n",
    "STUDENT_model = MultiClassMLP(28*28, 10)"
   ]
  },
  {
   "cell_type": "code",
   "execution_count": 5,
   "metadata": {},
   "outputs": [
    {
     "name": "stdout",
     "output_type": "stream",
     "text": [
      "Number of Parameters:  790282\n"
     ]
    }
   ],
   "source": [
    "# Please change \"STUDENT_model\" with your NN model class's instance name\n",
    "total_params = sum(p.numel() for p in STUDENT_model.parameters())\n",
    "\n",
    "print(\"Number of Parameters: \", total_params)"
   ]
  },
  {
   "cell_type": "code",
   "execution_count": 6,
   "metadata": {},
   "outputs": [],
   "source": [
    "train_dataset = MNIST(download_root, transform=mnist_transform, train=True, download=True)\n",
    "valid_dataset = MNIST(download_root, transform=mnist_transform, train=False, download=True)\n",
    "test_dataset = MNIST(download_root, transform=mnist_transform, train=False, download=True)"
   ]
  },
  {
   "cell_type": "code",
   "execution_count": 7,
   "metadata": {},
   "outputs": [],
   "source": [
    "# option 값 정의\n",
    "batch_size = 32\n",
    "dim = 28*28\n",
    "learning_rate = 1e-1\n",
    "\n",
    "train_loader = DataLoader(dataset=train_dataset, \n",
    "                         batch_size=batch_size,\n",
    "                         shuffle=True)\n",
    "\n",
    "valid_loader = DataLoader(dataset=test_dataset, \n",
    "                         batch_size=batch_size,\n",
    "                         shuffle=True)\n",
    "\n",
    "test_loader = DataLoader(dataset=test_dataset, \n",
    "                         batch_size=batch_size,\n",
    "                         shuffle=True)"
   ]
  },
  {
   "cell_type": "code",
   "execution_count": 8,
   "metadata": {},
   "outputs": [
    {
     "name": "stdout",
     "output_type": "stream",
     "text": [
      "tensor(19.1141)\n",
      "tensor(13.6685)\n"
     ]
    }
   ],
   "source": [
    "my_loss = nn.CrossEntropyLoss()\n",
    "\n",
    "print(my_loss(torch.Tensor([1, 2, 3]), torch.Tensor([4, 5, 6])))\n",
    "print(my_loss(torch.Tensor([1, 2, 3]), torch.Tensor([4, 2, 3])))"
   ]
  },
  {
   "cell_type": "code",
   "execution_count": 9,
   "metadata": {},
   "outputs": [
    {
     "name": "stdout",
     "output_type": "stream",
     "text": [
      "Epoch: 0 | Train Loss: 1.39730984582901\n",
      "Epoch: 1 | Train Loss: 0.44338167666594186\n",
      "Epoch: 2 | Train Loss: 0.363048623863856\n",
      "Epoch: 3 | Train Loss: 0.3238696164906025\n",
      "Epoch: 4 | Train Loss: 0.2914444414893786\n",
      "Epoch: 5 | Train Loss: 0.26659294713238874\n",
      "Epoch: 6 | Train Loss: 0.2425361001521349\n"
     ]
    }
   ],
   "source": [
    "optimizer = optim.SGD(STUDENT_model.parameters(), learning_rate)\n",
    "\n",
    "for epoch in range(7):\n",
    "    STUDENT_model.train()\n",
    "    epoch_loss = 0\n",
    "    \n",
    "    for i, (data, target) in enumerate(train_loader):\n",
    "        \n",
    "        optimizer.zero_grad()\n",
    "        \n",
    "        output = STUDENT_model(data)\n",
    "        \n",
    "        loss = my_loss(output, target)\n",
    "        \n",
    "        loss.backward()\n",
    "        \n",
    "        optimizer.step()\n",
    "        \n",
    "        epoch_loss += loss.item()\n",
    "\n",
    "    print(f'Epoch: {epoch} | Train Loss: {epoch_loss / len(train_loader)}')"
   ]
  },
  {
   "cell_type": "code",
   "execution_count": 10,
   "metadata": {},
   "outputs": [
    {
     "name": "stdout",
     "output_type": "stream",
     "text": [
      "Test for train_dataset: correctly matched/total: 55984/60000 accuracy: 93.31%\n",
      "\n",
      "Test for test_dataset: correctly matched/total: 9321/10000 accuracy: 93.21%\n",
      "\n"
     ]
    }
   ],
   "source": [
    "''' Test for train_dataset '''\n",
    "\n",
    "image_size = 28*28\n",
    "#image_size = 3*32*32 # for CIFAR dataset\n",
    "STUDENT_model.eval()\n",
    "batch_size = 32\n",
    "\n",
    "train_loader = DataLoader(dataset=train_dataset, batch_size=batch_size, shuffle=False)\n",
    "count = 0\n",
    "for image,label in train_loader :\n",
    "    label = label\n",
    "    prediction = torch.argmax(STUDENT_model(image.view(len(image),image_size)),dim=1)\n",
    "    count += (prediction == label).sum()\n",
    "        \n",
    "print('Test for train_dataset: correctly matched/total: {}/{} accuracy: {:.2f}%\\n'.format(count, len(train_dataset.targets), count/len(train_dataset.targets) * 100. ) )    \n",
    "\n",
    "''' Test for test_dataset '''\n",
    "count = 0\n",
    "wrong_answer = []\n",
    "test_loader = DataLoader(dataset=test_dataset, batch_size=batch_size, shuffle=False)\n",
    "for image,label in test_loader :\n",
    "    label = label\n",
    "    prediction = torch.argmax(STUDENT_model(image.view(len(image),image_size)),dim=1)\n",
    "    count += (prediction == label).sum()\n",
    "    \n",
    "#     else:\n",
    "#         wrong_answer += [i]   \n",
    "        \n",
    "print('Test for test_dataset: correctly matched/total: {}/{} accuracy: {:.2f}%\\n'.format(count, len(test_dataset.targets), count/len(test_dataset.targets) * 100. ) )    "
   ]
  }
 ],
 "metadata": {
  "kernelspec": {
   "display_name": "pytorch",
   "language": "python",
   "name": "python3"
  },
  "language_info": {
   "codemirror_mode": {
    "name": "ipython",
    "version": 3
   },
   "file_extension": ".py",
   "mimetype": "text/x-python",
   "name": "python",
   "nbconvert_exporter": "python",
   "pygments_lexer": "ipython3",
   "version": "3.11.5"
  }
 },
 "nbformat": 4,
 "nbformat_minor": 2
}
